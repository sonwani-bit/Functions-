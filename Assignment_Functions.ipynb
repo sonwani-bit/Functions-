{
  "nbformat": 4,
  "nbformat_minor": 0,
  "metadata": {
    "colab": {
      "provenance": []
    },
    "kernelspec": {
      "name": "python3",
      "display_name": "Python 3"
    },
    "language_info": {
      "name": "python"
    }
  },
  "cells": [
    {
      "cell_type": "markdown",
      "source": [
        "# Theory Questions:\n",
        "\n"
      ],
      "metadata": {
        "id": "2PbYxvw9ozhd"
      }
    },
    {
      "cell_type": "markdown",
      "source": [
        "1. What is the difference between a function and a method in Python?\n",
        "\n",
        "Answer-In Python, a function is a reusable block of code that performs a specific task, while a method is a function that is associated with an object or a class. Essentially, methods are \"special\" functions that operate on the object or class to which they belong, whereas functions are independent and can operate on data passed as arguments.\n",
        "\n",
        "Examples:\n",
        "\n",
        "list.append(), str.upper(), dict.get().\n",
        "\n"
      ],
      "metadata": {
        "id": "XHLDS07So5WH"
      }
    },
    {
      "cell_type": "markdown",
      "source": [
        "2.Explain the concept of function arguments and parameters in Python.\n",
        "\n",
        "Answer-In Python, parameters are placeholders defined in a function's definition, while arguments are the actual values passed to a function when it's called. Parameters are like variables that the function uses, and arguments provide the concrete values for those variables.\n",
        "\n",
        "Example:"
      ],
      "metadata": {
        "id": "Zq5NjgRSpYDZ"
      }
    },
    {
      "cell_type": "code",
      "source": [
        "def greet(name, greeting=\"Hello\"):  # 'name' and 'greeting' are parameters\n",
        "    print(f\"{greeting}, {name}!\")\n",
        "\n",
        "greet(\"Alice\")            # \"Alice\" and \"Hello\" are arguments\n",
        "greet(\"Bob\", \"Hi\")        # \"Bob\" and \"Hi\" are arguments"
      ],
      "metadata": {
        "colab": {
          "base_uri": "https://localhost:8080/"
        },
        "id": "3lexF6afpyUx",
        "outputId": "a3d0fdee-5001-4924-d4bf-3da8d204d92a"
      },
      "execution_count": 1,
      "outputs": [
        {
          "output_type": "stream",
          "name": "stdout",
          "text": [
            "Hello, Alice!\n",
            "Hi, Bob!\n"
          ]
        }
      ]
    },
    {
      "cell_type": "markdown",
      "source": [
        "3. What are the different ways to define and call a function in Python?\n",
        "\n",
        "Answer-In Python, functions are defined using the def keyword, followed by the function name, parentheses for optional arguments, and a colon. To call a function, use the function name followed by parentheses, potentially with arguments.\n",
        "\n",
        "1. Defining a Function:\n"
      ],
      "metadata": {
        "id": "R3vDyWHjp1az"
      }
    },
    {
      "cell_type": "code",
      "source": [
        "def greet(name):  # 'greet' is the function name, 'name' is an argument\n",
        "  print(f\"Hello, {name}!\")\n",
        "\n",
        "# The code within the indented block is the function's body"
      ],
      "metadata": {
        "id": "wH_pX6BSqeOh"
      },
      "execution_count": 2,
      "outputs": []
    },
    {
      "cell_type": "markdown",
      "source": [
        "2. Calling a Function:"
      ],
      "metadata": {
        "id": "-PXWbB2VqhAo"
      }
    },
    {
      "cell_type": "code",
      "source": [
        "greet(\"Alice\")  # Calling the 'greet' function with the argument \"Alice\""
      ],
      "metadata": {
        "colab": {
          "base_uri": "https://localhost:8080/"
        },
        "id": "CpLgRKz0qlyP",
        "outputId": "f3874360-e348-4d82-cda4-bf982e4b276b"
      },
      "execution_count": 3,
      "outputs": [
        {
          "output_type": "stream",
          "name": "stdout",
          "text": [
            "Hello, Alice!\n"
          ]
        }
      ]
    },
    {
      "cell_type": "markdown",
      "source": [
        "Explanation:\n",
        "\n",
        "def greet(name):: This line defines a function named greet. The name inside the parentheses is a parameter, meaning it can be passed a value when the function is called.\n",
        "\n",
        "print(f\"Hello, {name}!\"): This line is inside the function's body and is executed when the function is called. It prints a greeting using the value of the name parameter.\n",
        "\n",
        "greet(\"Alice\"): This line calls the greet function and passes the string \"Alice\" as the argument to the name parameter.\n",
        "\n",
        "Other Function Types and Examples:\n",
        "\n",
        "Functions with no arguments."
      ],
      "metadata": {
        "id": "_9-eiDp3quFM"
      }
    },
    {
      "cell_type": "code",
      "source": [
        "    def say_hello():\n",
        "      print(\"Hello!\")\n",
        "\n",
        "    say_hello() # Calling the function"
      ],
      "metadata": {
        "colab": {
          "base_uri": "https://localhost:8080/"
        },
        "id": "W_w6rOSYrcvv",
        "outputId": "d07a2ab6-23d4-4e76-e808-13444857f781"
      },
      "execution_count": 7,
      "outputs": [
        {
          "output_type": "stream",
          "name": "stdout",
          "text": [
            "Hello!\n"
          ]
        }
      ]
    },
    {
      "cell_type": "markdown",
      "source": [
        "Functions with multiple arguments."
      ],
      "metadata": {
        "id": "viJR95avrxg-"
      }
    },
    {
      "cell_type": "code",
      "source": [
        "    def add(x, y):\n",
        "      return x + y\n",
        "\n",
        "    result = add(5, 3) # Calling the function with arguments 5 and 3\n",
        "    print(result) # Output: 8"
      ],
      "metadata": {
        "colab": {
          "base_uri": "https://localhost:8080/"
        },
        "id": "mZKK19ber056",
        "outputId": "488751ae-d237-4d31-9c67-320dbfd79088"
      },
      "execution_count": 10,
      "outputs": [
        {
          "output_type": "stream",
          "name": "stdout",
          "text": [
            "8\n"
          ]
        }
      ]
    },
    {
      "cell_type": "markdown",
      "source": [
        "Functions with default argument values."
      ],
      "metadata": {
        "id": "0AuzoVeir33o"
      }
    },
    {
      "cell_type": "code",
      "source": [
        "    def greet(name=\"World\"):\n",
        "      print(f\"Hello, {name}!\")\n",
        "\n",
        "    greet() # Output: Hello, World!\n",
        "    greet(\"Python\") # Output: Hello, Python!"
      ],
      "metadata": {
        "colab": {
          "base_uri": "https://localhost:8080/"
        },
        "id": "M65L2kSRr6ns",
        "outputId": "3a1dcc5f-73ea-4a30-e70b-23c4984d745e"
      },
      "execution_count": 9,
      "outputs": [
        {
          "output_type": "stream",
          "name": "stdout",
          "text": [
            "Hello, World!\n",
            "Hello, Python!\n"
          ]
        }
      ]
    },
    {
      "cell_type": "markdown",
      "source": [
        "Functions with arbitrary arguments."
      ],
      "metadata": {
        "id": "4u4-YHkPr9zp"
      }
    },
    {
      "cell_type": "code",
      "source": [
        "    def print_args(*args):\n",
        "      for arg in args:\n",
        "        print(arg)\n",
        "\n",
        "    print_args(1, 2, 3, \"hello\")\n",
        "    # Output: 1\n",
        "    #         2\n",
        "    #         3\n",
        "    #         hello"
      ],
      "metadata": {
        "colab": {
          "base_uri": "https://localhost:8080/"
        },
        "id": "HhwzdHi6sAlN",
        "outputId": "5f138407-2e0a-481f-e755-6cc7cd950c86"
      },
      "execution_count": 8,
      "outputs": [
        {
          "output_type": "stream",
          "name": "stdout",
          "text": [
            "1\n",
            "2\n",
            "3\n",
            "hello\n"
          ]
        }
      ]
    },
    {
      "cell_type": "markdown",
      "source": [
        "  4. What is the purpose of the `return` statement in a Python function?\n",
        "\n",
        "  Answer-The primary purpose of the return statement in Python is to terminate a function's execution and send a value back to the caller. When encountered, the return statement immediately exits the function and transfers control back to the point where the function was called. If a value is specified after the return keyword, that value is then passed back to the caller; otherwise, it returns None.\n",
        "\n",
        "Here's a more detailed explanation:\n",
        "\n",
        "Exiting the function:\n",
        "\n",
        "The return statement signals the end of a function's execution. Any code following a return statement within a function will not be executed.\n",
        "\n",
        "Returning a value:\n",
        "\n",
        "The return statement can be followed by an expression, which will be evaluated and the resulting value returned to the caller. This value can be any Python object (e.g., numbers, strings, lists, etc.).\n",
        "\n",
        "Returning None:\n",
        "\n",
        "If a return statement is used without any expression, it implicitly returns the special value None.\n",
        "\n",
        "Example:"
      ],
      "metadata": {
        "id": "_NSbD5_xsGGW"
      }
    },
    {
      "cell_type": "code",
      "source": [
        "    def add_numbers(a, b):\n",
        "        result = a + b\n",
        "        return result\n",
        "\n",
        "    # Calling the function and storing the returned value\n",
        "    sum_result = add_numbers(5, 3)\n",
        "    print(sum_result)  # Output: 8"
      ],
      "metadata": {
        "colab": {
          "base_uri": "https://localhost:8080/"
        },
        "id": "BXeOXnl2sj_1",
        "outputId": "6e0cd011-9fec-45dc-ad30-0ea5108953a3"
      },
      "execution_count": 11,
      "outputs": [
        {
          "output_type": "stream",
          "name": "stdout",
          "text": [
            "8\n"
          ]
        }
      ]
    },
    {
      "cell_type": "markdown",
      "source": [
        "5.What are iterators in Python and how do they differ from iterables?\n",
        "\n",
        "Answer-An Iterable is basically an object that any user can iterate over. An Iterator is also an object that helps a user in iterating over another object (that is iterable). We can generate an iterator when we pass the object to the iter() method.\n",
        "\n",
        "Examples of iterables include lists, sets, tuples, dictionaries, strings, etc. An iterator is an object that can be iterated upon. Thus, iterators contain a countable number of values."
      ],
      "metadata": {
        "id": "FP5HXXcrsp86"
      }
    },
    {
      "cell_type": "markdown",
      "source": [
        "6. Explain the concept of generators in Python and how they are defined.\n",
        "\n",
        "Answer-A generator function is a special type of function that returns an iterator object. Instead of using return to send back a single value, generator functions use yield to produce a series of results over time. This allows the function to generate values and pause its execution after each yield, maintaining its state between iterations.\n",
        "\n",
        "Example:"
      ],
      "metadata": {
        "id": "1JIwS1qJtTaA"
      }
    },
    {
      "cell_type": "code",
      "source": [
        "def fun(max):\n",
        "    cnt = 1\n",
        "    while cnt <= max:\n",
        "        yield cnt\n",
        "        cnt += 1\n",
        "\n",
        "ctr = fun(5)\n",
        "for n in ctr:\n",
        "    print(n)\n"
      ],
      "metadata": {
        "colab": {
          "base_uri": "https://localhost:8080/"
        },
        "id": "N3t3HYuVtlZr",
        "outputId": "e5224e22-573a-497b-ceb0-b38ad25031f1"
      },
      "execution_count": 12,
      "outputs": [
        {
          "output_type": "stream",
          "name": "stdout",
          "text": [
            "1\n",
            "2\n",
            "3\n",
            "4\n",
            "5\n"
          ]
        }
      ]
    },
    {
      "cell_type": "markdown",
      "source": [
        "7. What are the advantages of using generators over regular functions?\n",
        "\n",
        "Answer-Generators offer several advantages over regular functions, primarily concerning memory efficiency and lazy evaluation. They generate values on demand, one at a time, rather than computing and storing the entire sequence upfront, making them ideal for large or infinite datasets. This also allows for cooperative multitasking, where a generator can pause its execution and resume later.\n",
        "\n",
        "Here's a more detailed breakdown of the advantages:\n",
        "\n",
        "Memory Efficiency:\n",
        "\n",
        "Generators are memory-friendly because they don't create the entire sequence in memory at once. They generate values as needed, which is crucial when dealing with large datasets or infinite streams of data.\n",
        "\n",
        "Lazy Evaluation:\n",
        "Generators evaluate values only when they are needed, rather than upfront. This is beneficial when processing large amounts of data or when the data stream is infinite.\n",
        "\n",
        "Cooperative Multitasking:\n",
        "Generators can pause and resume execution, enabling cooperative multitasking. This allows for more complex and flexible control flow in applications.\n",
        "\n",
        "Resource Pipelining:\n",
        "Generators facilitate resource pipelining, where data processing tasks are divided into a sequence of generator functions. Each generator processes a segment of data and forwards it to the next stage, minimizing memory\n",
        "utilization and improving efficiency.\n",
        "\n",
        "Concise and Readable Code:\n",
        "Generators can lead to more concise and readable code compared to traditional for loops when creating iterators.\n",
        "\n",
        "Handling Infinite Streams:\n",
        "Generators are particularly well-suited for representing and working with infinite streams of data, as they don't need to store the entire sequence in memory.\n",
        "\n",
        "Example :"
      ],
      "metadata": {
        "id": "mxP03vZltora"
      }
    },
    {
      "cell_type": "code",
      "source": [
        "def squares(n):\n",
        "    \"\"\"\n",
        "    Generates squares of numbers from 1 to n.\n",
        "    \"\"\"\n",
        "    for i in range(1, n + 1):\n",
        "        yield i * i\n",
        "\n",
        "# Instead of creating a list of all squares, the generator yields them one at a time\n",
        "for square in squares(10):\n",
        "    print(square)"
      ],
      "metadata": {
        "id": "LUN7qo-guYQC"
      },
      "execution_count": null,
      "outputs": []
    },
    {
      "cell_type": "markdown",
      "source": [
        "8. What is a lambda function in Python and when is it typically used?\n",
        "\n",
        "Answer-A lambda function in Python is a small, anonymous function defined using the lambda keyword. It's typically used for one-time use or when you need a simple function without a formal definition. Lambda functions are particularly useful with higher-order functions like map, filter, and sorted.\n",
        "\n",
        "Syntax:\n",
        "lambda arguments: expression\n",
        "\n",
        "lambda: The keyword that defines a lambda function.\n",
        "\n",
        "arguments: The arguments the function takes, similar to a regular function.\n",
        "\n",
        ":: Separates the arguments from the expression.\n",
        "\n",
        "expression: The single expression that the function evaluates and returns.\n",
        "\n",
        "Examples:\n",
        "\n",
        "Squaring a number:"
      ],
      "metadata": {
        "id": "RvcCNse7ucA8"
      }
    },
    {
      "cell_type": "code",
      "source": [
        "square = lambda x: x**2  # Assigns the lambda function to the variable 'square'\n",
        "print(square(5))  # Output: 25"
      ],
      "metadata": {
        "colab": {
          "base_uri": "https://localhost:8080/"
        },
        "id": "iuFXHfSOvOAw",
        "outputId": "9ad47627-20f0-4e09-a0fc-424187345e13"
      },
      "execution_count": 13,
      "outputs": [
        {
          "output_type": "stream",
          "name": "stdout",
          "text": [
            "25\n"
          ]
        }
      ]
    },
    {
      "cell_type": "markdown",
      "source": [
        "Small, simple operations:\n",
        "\n",
        "When you need a function that does one thing and is short and easy to read.\n",
        "\n",
        "As arguments to higher-order functions:\n",
        "\n",
        "When you need a function to be passed as an argument to another function like map, filter, sorted, etc.\n",
        "\n",
        "Avoiding unnecessary function definitions:\n",
        "\n",
        "To avoid defining a separate named function when a lambda function can do the job.\n",
        "\n",
        "Making code more concise:\n",
        "\n",
        "In situations where a lambda function can make the code more readable and compact."
      ],
      "metadata": {
        "id": "i44QbYkLvV-G"
      }
    },
    {
      "cell_type": "markdown",
      "source": [
        "9. Explain the purpose and usage of the `map()` function in Python.\n",
        "\n",
        "Answer-The map() function in Python applies a given function to each item in an iterable (like a list) and returns a new iterable containing the results. It's a concise way to transform data without using explicit loops. Learn Python.\n",
        "\n",
        "Purpose:\n",
        "\n",
        "Data Transformation:\n",
        "\n",
        "The primary purpose of map() is to apply a function to each element of an iterable, effectively transforming the data.\n",
        "\n",
        "Code Conciseness:\n",
        "\n",
        "It helps avoid writing repetitive for loops for iterating and applying a function to each element.\n",
        "\n",
        "Functional Programming:\n",
        "\n",
        "It aligns with functional programming principles, where functions are treated as first-class citizens.\n",
        "\n",
        "Usage:\n",
        "\n"
      ],
      "metadata": {
        "id": "fOPmPR7RvcYY"
      }
    },
    {
      "cell_type": "code",
      "source": [
        "def square(x):\n",
        "  return x * x\n",
        "\n",
        "numbers = [1, 2, 3, 4, 5]\n",
        "\n",
        "# Using map() with a regular function\n",
        "squared_numbers = list(map(square, numbers))\n",
        "print(squared_numbers)  # Output: [1, 4, 9, 16, 25]\n",
        "\n",
        "# Using map() with a lambda function (anonymous function)\n",
        "squares = list(map(lambda x: x**2, numbers))\n",
        "print(squares) # Output: [1, 4, 9, 16, 25]"
      ],
      "metadata": {
        "colab": {
          "base_uri": "https://localhost:8080/"
        },
        "id": "LhRDfgvbvyRZ",
        "outputId": "f10901c1-64fe-4db7-d551-57d88ba107c4"
      },
      "execution_count": 14,
      "outputs": [
        {
          "output_type": "stream",
          "name": "stdout",
          "text": [
            "[1, 4, 9, 16, 25]\n",
            "[1, 4, 9, 16, 25]\n"
          ]
        }
      ]
    },
    {
      "cell_type": "markdown",
      "source": [
        "Example with Strings:"
      ],
      "metadata": {
        "id": "JyptUuLJvzvS"
      }
    },
    {
      "cell_type": "code",
      "source": [
        "def capitalize(word):\n",
        "  return word.capitalize()\n",
        "\n",
        "words = [\"apple\", \"banana\", \"cherry\"]\n",
        "\n",
        "capitalized_words = list(map(capitalize, words))\n",
        "print(capitalized_words) # Output: ['Apple', 'Banana', 'Cherry']"
      ],
      "metadata": {
        "colab": {
          "base_uri": "https://localhost:8080/"
        },
        "id": "WDvH7F9Qv2y5",
        "outputId": "8286ce41-d5bc-4b95-af04-c7a950e03af0"
      },
      "execution_count": 15,
      "outputs": [
        {
          "output_type": "stream",
          "name": "stdout",
          "text": [
            "['Apple', 'Banana', 'Cherry']\n"
          ]
        }
      ]
    },
    {
      "cell_type": "markdown",
      "source": [
        "10. What is the difference between `map()`, `reduce()`, and `filter()` functions in Python?\n",
        "\n",
        "Answer-In Python, map(), reduce(), and filter() are functional programming tools that operate on iterables. map() applies a function to each item of an iterable, returning a new iterable with the results. reduce() (available in functools in Python 3) takes a function and an iterable, and applies the function cumulatively to the iterable, returning a single value. filter() applies a function to each item of an iterable, returning a new iterable containing only the items for which the function returns True.\n",
        "\n",
        "Here's a breakdown:\n",
        "\n",
        "1. map():\n",
        "\n",
        "Purpose: Applies a given function to each item in an iterable (like a list, tuple, or string) and returns a new iterable (like a map object) with the results.\n",
        "\n",
        "Example:"
      ],
      "metadata": {
        "id": "edAR-db-v6j3"
      }
    },
    {
      "cell_type": "code",
      "source": [
        "    def double(x):\n",
        "        return x * 2\n",
        "\n",
        "    numbers = [1, 2, 3, 4]\n",
        "    doubled_numbers = map(double, numbers)\n",
        "    # doubled_numbers is a map object, you can convert it to a list:\n",
        "    list(doubled_numbers) # Output: [2, 4, 6, 8]"
      ],
      "metadata": {
        "colab": {
          "base_uri": "https://localhost:8080/"
        },
        "id": "vmmxUJ2kwQrg",
        "outputId": "137148db-8f6b-4937-a415-971c41cead85"
      },
      "execution_count": 16,
      "outputs": [
        {
          "output_type": "execute_result",
          "data": {
            "text/plain": [
              "[2, 4, 6, 8]"
            ]
          },
          "metadata": {},
          "execution_count": 16
        }
      ]
    },
    {
      "cell_type": "markdown",
      "source": [
        "2. reduce():\n",
        "\n",
        "Purpose: Applies a function to two elements of the iterable cumulatively, reducing it to a single value.\n",
        "\n",
        "Availability: In Python 3, reduce is not a built-in function but is part of the functools module.\n",
        "\n",
        "Example:"
      ],
      "metadata": {
        "id": "Ngla5nZHwSo8"
      }
    },
    {
      "cell_type": "code",
      "source": [
        "    from functools import reduce\n",
        "\n",
        "    def add(x, y):\n",
        "        return x + y\n",
        "\n",
        "    numbers = [1, 2, 3, 4]\n",
        "    sum_of_numbers = reduce(add, numbers)\n",
        "    print(sum_of_numbers) # Output: 10"
      ],
      "metadata": {
        "colab": {
          "base_uri": "https://localhost:8080/"
        },
        "id": "cJn2wHJRwYcE",
        "outputId": "6d1103ed-d3dd-4f07-e9dd-31f1e30da884"
      },
      "execution_count": 17,
      "outputs": [
        {
          "output_type": "stream",
          "name": "stdout",
          "text": [
            "10\n"
          ]
        }
      ]
    },
    {
      "cell_type": "markdown",
      "source": [
        "3. filter():\n",
        "\n",
        "Purpose: Creates a new iterable containing only the items from the original iterable for which a given function returns True.\n",
        "\n",
        "Example:\n"
      ],
      "metadata": {
        "id": "ezznIKRcwdkb"
      }
    },
    {
      "cell_type": "code",
      "source": [
        "    def is_even(x):\n",
        "        return x % 2 == 0\n",
        "\n",
        "    numbers = [1, 2, 3, 4, 5, 6]\n",
        "    even_numbers = filter(is_even, numbers)\n",
        "    # even_numbers is a filter object, you can convert it to a list:\n",
        "    list(even_numbers) # Output: [2, 4, 6]"
      ],
      "metadata": {
        "colab": {
          "base_uri": "https://localhost:8080/"
        },
        "id": "khtsbe1PwiM8",
        "outputId": "7d78887c-27c0-4373-fa92-972b624d1750"
      },
      "execution_count": 18,
      "outputs": [
        {
          "output_type": "execute_result",
          "data": {
            "text/plain": [
              "[2, 4, 6]"
            ]
          },
          "metadata": {},
          "execution_count": 18
        }
      ]
    },
    {
      "cell_type": "markdown",
      "source": [
        "11. Using pen & Paper write the internal mechanism for sum operation using  reduce function on this given\n",
        "list:[47,11,42,13];\n",
        "\n",
        "Answer-Okay, let's trace the internal mechanism of the reduce function performing a sum operation on the list [47, 11, 42, 13] as if we were doing it by hand.\n",
        "\n",
        "Understanding reduce\n",
        "\n",
        "The reduce function (often found in functional programming libraries) applies a function cumulatively to the items of a sequence, from left to right, so as to reduce the sequence to a single value. 1\n",
        "1.\n",
        "github.com\n",
        "github.com\n",
        "\n",
        "Sum Operation\n",
        "\n",
        "In our case, the function we'll be applying is addition.\n",
        "\n",
        "Step-by-Step Internal Mechanism\n",
        "\n",
        "Let's visualize how reduce would process the list:\n",
        "\n",
        "Initial State:\n",
        "\n",
        "List: [47, 11, 42, 13]\n",
        "reduce starts its operation.\n",
        "Iteration 1:\n",
        "\n",
        "reduce takes the first two elements of the list: 47 and 11.\n",
        "It applies the addition operation to these two elements: 47+11=58.\n",
        "The result, 58, now becomes the \"accumulated\" value.\n",
        "Visual Representation (Pen & Paper):\n",
        "\n",
        "List: [47, 11, 42, 13]\n",
        "\n",
        "Step 1:\n",
        "  - Take 47 and 11\n",
        "  - Operation: 47 + 11 = 58\n",
        "  - Accumulated value: 58\n",
        "Iteration 2:\n",
        "\n",
        "reduce takes the current accumulated value (58) and the next element from the list (42).\n",
        "It applies the addition operation: 58+42=100.\n",
        "The result, 100, becomes the new accumulated value.\n",
        "Visual Representation (Pen & Paper):\n",
        "\n",
        "List: [47, 11, 42, 13]\n",
        "Accumulated value (from step 1): 58\n",
        "\n",
        "Step 2:\n",
        "  - Take 58 and 42\n",
        "  - Operation: 58 + 42 = 100\n",
        "  - Accumulated value: 100\n",
        "Iteration 3:\n",
        "\n",
        "reduce takes the current accumulated value (100) and the next (and final) element from the list (13).\n",
        "It applies the addition operation: 100+13=113.\n",
        "The result, 113, becomes the final accumulated value.\n",
        "Visual Representation (Pen & Paper):\n",
        "\n",
        "List: [47, 11, 42, 13]\n",
        "Accumulated value (from step 2): 100\n",
        "\n",
        "Step 3:\n",
        "  - Take 100 and 13\n",
        "  - Operation: 100 + 13 = 113\n",
        "  - Accumulated value: 113 (Final Result)\n",
        "Final Result:\n",
        "\n",
        "After processing all the elements in the list, the reduce function returns the final accumulated value, which is the sum of all the elements: 113.\n",
        "\n",
        "In Summary (Conceptual Internal Steps):\n",
        "\n",
        "Initialize an accumulator with the first element of the list (or a provided initial value, if given).\n",
        "Iterate through the remaining elements of the list.\n",
        "In each iteration, apply the given function (addition in this case) to the current accumulator and the current element.\n",
        "Update the accumulator with the result of the function.\n",
        "After processing all elements, the final value of the accumulator is returned.\n",
        "This step-by-step breakdown illustrates the internal mechanism of the reduce function performing a sum operation on the given list."
      ],
      "metadata": {
        "id": "zAjnezvfwlkG"
      }
    },
    {
      "cell_type": "markdown",
      "source": [
        "#Practical Questions:"
      ],
      "metadata": {
        "id": "Ot8NeHCVxOgY"
      }
    },
    {
      "cell_type": "markdown",
      "source": [
        "1. Write a Python function that takes a list of numbers as input and returns the sum of all even numbers in the list?\n",
        "\n",
        "Answer-"
      ],
      "metadata": {
        "id": "kX1MT4QjxfgM"
      }
    },
    {
      "cell_type": "code",
      "source": [
        "def sum_even_numbers(numbers):\n",
        "    \"\"\"\n",
        "    Calculates the sum of all even numbers in a list.\n",
        "\n",
        "    Args:\n",
        "        numbers: A list of numbers.\n",
        "\n",
        "    Returns:\n",
        "        The sum of the even numbers in the list.  Returns 0 if the list is\n",
        "        empty or contains no even numbers.\n",
        "    \"\"\"\n",
        "    even_sum = 0\n",
        "    for number in numbers:\n",
        "        if number % 2 == 0:\n",
        "            even_sum += number\n",
        "    return even_sum\n",
        "\n",
        "# Example usage:\n",
        "number_list1 = [1, 2, 3, 4, 5, 6, 7, 8, 9, 10]\n",
        "result1 = sum_even_numbers(number_list1)\n",
        "print(f\"The sum of even numbers in {number_list1} is: {result1}\")  # Output: 30\n",
        "\n",
        "number_list2 = [1, 3, 5, 7, 9]\n",
        "result2 = sum_even_numbers(number_list2)\n",
        "print(f\"The sum of even numbers in {number_list2} is: {result2}\")  # Output: 0\n",
        "\n",
        "number_list3 = [2, 4, 6, 8, 10]\n",
        "result3 = sum_even_numbers(number_list3)\n",
        "print(f\"The sum of even numbers in {number_list3} is: {result3}\")  # Output: 30\n",
        "\n",
        "number_list4 = []\n",
        "result4 = sum_even_numbers(number_list4)\n",
        "print(f\"The sum of even numbers in {number_list4} is: {result4}\")  # Output: 0\n"
      ],
      "metadata": {
        "colab": {
          "base_uri": "https://localhost:8080/"
        },
        "id": "oQcXnaaexx4Z",
        "outputId": "8c64494a-3ecc-433c-850f-7bd7e8231fc8"
      },
      "execution_count": 19,
      "outputs": [
        {
          "output_type": "stream",
          "name": "stdout",
          "text": [
            "The sum of even numbers in [1, 2, 3, 4, 5, 6, 7, 8, 9, 10] is: 30\n",
            "The sum of even numbers in [1, 3, 5, 7, 9] is: 0\n",
            "The sum of even numbers in [2, 4, 6, 8, 10] is: 30\n",
            "The sum of even numbers in [] is: 0\n"
          ]
        }
      ]
    },
    {
      "cell_type": "markdown",
      "source": [
        "2. Create a Python function that accepts a string and returns the reverse of that string.\n",
        "\n",
        "Answer-"
      ],
      "metadata": {
        "id": "j7AXoRGZxz85"
      }
    },
    {
      "cell_type": "code",
      "source": [
        "def reverse_string(input_string):\n",
        "    \"\"\"\n",
        "    Reverses a given string.\n",
        "\n",
        "    Args:\n",
        "        input_string: The string to be reversed.\n",
        "\n",
        "    Returns:\n",
        "        The reversed string. Returns an empty string if the input\n",
        "        is not a string.\n",
        "    \"\"\"\n",
        "    if not isinstance(input_string, str):\n",
        "        return \"\"  # Handle non-string input\n",
        "\n",
        "    return input_string[::-1]\n",
        "\n",
        "# Example usage:\n",
        "string1 = \"hello\"\n",
        "reversed_string1 = reverse_string(string1)\n",
        "print(f\"The reverse of '{string1}' is: '{reversed_string1}'\")  # Output: 'olleh'\n",
        "\n",
        "string2 = \"world\"\n",
        "reversed_string2 = reverse_string(string2)\n",
        "print(f\"The reverse of '{string2}' is: '{reversed_string2}'\")  # Output: 'dlrow'\n",
        "\n",
        "string3 = \"\"\n",
        "reversed_string3 = reverse_string(string3)\n",
        "print(f\"The reverse of '{string3}' is: '{reversed_string3}'\")  # Output: ''\n",
        "\n",
        "string4 = 123  # Test with non-string input\n",
        "reversed_string4 = reverse_string(string4)\n",
        "print(f\"The reverse of '123' is: '{reversed_string4}'\")  # Output: ''\n"
      ],
      "metadata": {
        "colab": {
          "base_uri": "https://localhost:8080/"
        },
        "id": "HCUXpYkCx49Y",
        "outputId": "035b1862-7953-4b1a-a996-7565eac65bed"
      },
      "execution_count": 20,
      "outputs": [
        {
          "output_type": "stream",
          "name": "stdout",
          "text": [
            "The reverse of 'hello' is: 'olleh'\n",
            "The reverse of 'world' is: 'dlrow'\n",
            "The reverse of '' is: ''\n",
            "The reverse of '123' is: ''\n"
          ]
        }
      ]
    },
    {
      "cell_type": "markdown",
      "source": [
        "3. Implement a Python function that takes a list of integers and returns a new list containing the squares of each number.\n",
        "\n",
        "Answer-"
      ],
      "metadata": {
        "id": "edL_lMFGx_lO"
      }
    },
    {
      "cell_type": "code",
      "source": [
        "def square_numbers(numbers):\n",
        "    \"\"\"\n",
        "    Calculates the square of each number in a list of integers.\n",
        "\n",
        "    Args:\n",
        "        numbers: A list of integers.\n",
        "\n",
        "    Returns:\n",
        "        A new list containing the square of each number in the input list.\n",
        "        Returns an empty list if the input is not a list or is empty.\n",
        "    \"\"\"\n",
        "    if not isinstance(numbers, list):\n",
        "        return []  # Handle non-list input\n",
        "    if not numbers:\n",
        "        return [] # Handle empty list\n",
        "\n",
        "    squared_numbers = []\n",
        "    for number in numbers:\n",
        "        if isinstance(number, (int, float)): #check if the number is integer or float\n",
        "            squared_numbers.append(number ** 2)\n",
        "        else:\n",
        "            return [] # Return empty list if any element is not a number\n",
        "    return squared_numbers\n",
        "\n",
        "# Example usage:\n",
        "numbers1 = [1, 2, 3, 4, 5]\n",
        "squared_numbers1 = square_numbers(numbers1)\n",
        "print(f\"The squares of numbers in {numbers1} are: {squared_numbers1}\")  # Output: [1, 4, 9, 16, 25]\n",
        "\n",
        "numbers2 = [-1, -2, -3, -4, -5]\n",
        "squared_numbers2 = square_numbers(numbers2)\n",
        "print(f\"The squares of numbers in {numbers2} are: {squared_numbers2}\")  # Output: [1, 4, 9, 16, 25]\n",
        "\n",
        "numbers3 = [1.5, 2.5, 3.5]\n",
        "squared_numbers3 = square_numbers(numbers3)\n",
        "print(f\"The squares of numbers in {numbers3} are: {squared_numbers3}\")\n",
        "\n",
        "numbers4 = []\n",
        "squared_numbers4 = square_numbers(numbers4)\n",
        "print(f\"The squares of numbers in {numbers4} are: {squared_numbers4}\")  # Output: []\n",
        "\n",
        "numbers5 = [1, \"a\", 3, 4] #example with a string in the list\n",
        "squared_numbers5 = square_numbers(numbers5)\n",
        "print(f\"The squares of numbers in {numbers5} are: {squared_numbers5}\") # Output: []\n"
      ],
      "metadata": {
        "colab": {
          "base_uri": "https://localhost:8080/"
        },
        "id": "ZgRmD-9gyFQQ",
        "outputId": "fdbc6c4e-dc56-4ce4-a6bc-0e09e642775e"
      },
      "execution_count": 21,
      "outputs": [
        {
          "output_type": "stream",
          "name": "stdout",
          "text": [
            "The squares of numbers in [1, 2, 3, 4, 5] are: [1, 4, 9, 16, 25]\n",
            "The squares of numbers in [-1, -2, -3, -4, -5] are: [1, 4, 9, 16, 25]\n",
            "The squares of numbers in [1.5, 2.5, 3.5] are: [2.25, 6.25, 12.25]\n",
            "The squares of numbers in [] are: []\n",
            "The squares of numbers in [1, 'a', 3, 4] are: []\n"
          ]
        }
      ]
    },
    {
      "cell_type": "markdown",
      "source": [
        "4. Write a Python function that checks if a given number is prime or not from 1 to 200.\n",
        "\n",
        "Answer-"
      ],
      "metadata": {
        "id": "8pBHS47tyN4H"
      }
    },
    {
      "cell_type": "code",
      "source": [
        "def is_prime(number):\n",
        "    \"\"\"\n",
        "    Checks if a given number is a prime number.\n",
        "\n",
        "    Args:\n",
        "        number: The number to check for primality.\n",
        "\n",
        "    Returns:\n",
        "        True if the number is prime, False otherwise.\n",
        "        Returns False if the number is not an integer, or is outside the\n",
        "        range 1-200 (inclusive).\n",
        "    \"\"\"\n",
        "    if not isinstance(number, int):\n",
        "        return False  # Ensure number is an integer\n",
        "    if number <= 1 or number > 200:\n",
        "        return False  # 1 and numbers > 200 are not prime in this context\n",
        "\n",
        "    if number <= 3:\n",
        "        return True  # 2 and 3 are prime\n",
        "\n",
        "    if number % 2 == 0 or number % 3 == 0:\n",
        "        return False  # Numbers divisible by 2 or 3 are not prime\n",
        "\n",
        "    # Optimized primality test for numbers > 3\n",
        "    for i in range(5, int(number**0.5) + 1, 6):\n",
        "        if number % i == 0 or number % (i + 2) == 0:\n",
        "            return False\n",
        "    return True\n",
        "\n",
        "# Example usage:\n",
        "for i in range(1, 201):\n",
        "    if is_prime(i):\n",
        "        print(f\"{i} is a prime number\")\n",
        "    else:\n",
        "        print(f\"{i} is not a prime number\")\n"
      ],
      "metadata": {
        "colab": {
          "base_uri": "https://localhost:8080/"
        },
        "id": "JMPkSM5VyT0G",
        "outputId": "ef93b2d4-3b4d-4dee-ae5d-882a6e8cd3e5"
      },
      "execution_count": 22,
      "outputs": [
        {
          "output_type": "stream",
          "name": "stdout",
          "text": [
            "1 is not a prime number\n",
            "2 is a prime number\n",
            "3 is a prime number\n",
            "4 is not a prime number\n",
            "5 is a prime number\n",
            "6 is not a prime number\n",
            "7 is a prime number\n",
            "8 is not a prime number\n",
            "9 is not a prime number\n",
            "10 is not a prime number\n",
            "11 is a prime number\n",
            "12 is not a prime number\n",
            "13 is a prime number\n",
            "14 is not a prime number\n",
            "15 is not a prime number\n",
            "16 is not a prime number\n",
            "17 is a prime number\n",
            "18 is not a prime number\n",
            "19 is a prime number\n",
            "20 is not a prime number\n",
            "21 is not a prime number\n",
            "22 is not a prime number\n",
            "23 is a prime number\n",
            "24 is not a prime number\n",
            "25 is not a prime number\n",
            "26 is not a prime number\n",
            "27 is not a prime number\n",
            "28 is not a prime number\n",
            "29 is a prime number\n",
            "30 is not a prime number\n",
            "31 is a prime number\n",
            "32 is not a prime number\n",
            "33 is not a prime number\n",
            "34 is not a prime number\n",
            "35 is not a prime number\n",
            "36 is not a prime number\n",
            "37 is a prime number\n",
            "38 is not a prime number\n",
            "39 is not a prime number\n",
            "40 is not a prime number\n",
            "41 is a prime number\n",
            "42 is not a prime number\n",
            "43 is a prime number\n",
            "44 is not a prime number\n",
            "45 is not a prime number\n",
            "46 is not a prime number\n",
            "47 is a prime number\n",
            "48 is not a prime number\n",
            "49 is not a prime number\n",
            "50 is not a prime number\n",
            "51 is not a prime number\n",
            "52 is not a prime number\n",
            "53 is a prime number\n",
            "54 is not a prime number\n",
            "55 is not a prime number\n",
            "56 is not a prime number\n",
            "57 is not a prime number\n",
            "58 is not a prime number\n",
            "59 is a prime number\n",
            "60 is not a prime number\n",
            "61 is a prime number\n",
            "62 is not a prime number\n",
            "63 is not a prime number\n",
            "64 is not a prime number\n",
            "65 is not a prime number\n",
            "66 is not a prime number\n",
            "67 is a prime number\n",
            "68 is not a prime number\n",
            "69 is not a prime number\n",
            "70 is not a prime number\n",
            "71 is a prime number\n",
            "72 is not a prime number\n",
            "73 is a prime number\n",
            "74 is not a prime number\n",
            "75 is not a prime number\n",
            "76 is not a prime number\n",
            "77 is not a prime number\n",
            "78 is not a prime number\n",
            "79 is a prime number\n",
            "80 is not a prime number\n",
            "81 is not a prime number\n",
            "82 is not a prime number\n",
            "83 is a prime number\n",
            "84 is not a prime number\n",
            "85 is not a prime number\n",
            "86 is not a prime number\n",
            "87 is not a prime number\n",
            "88 is not a prime number\n",
            "89 is a prime number\n",
            "90 is not a prime number\n",
            "91 is not a prime number\n",
            "92 is not a prime number\n",
            "93 is not a prime number\n",
            "94 is not a prime number\n",
            "95 is not a prime number\n",
            "96 is not a prime number\n",
            "97 is a prime number\n",
            "98 is not a prime number\n",
            "99 is not a prime number\n",
            "100 is not a prime number\n",
            "101 is a prime number\n",
            "102 is not a prime number\n",
            "103 is a prime number\n",
            "104 is not a prime number\n",
            "105 is not a prime number\n",
            "106 is not a prime number\n",
            "107 is a prime number\n",
            "108 is not a prime number\n",
            "109 is a prime number\n",
            "110 is not a prime number\n",
            "111 is not a prime number\n",
            "112 is not a prime number\n",
            "113 is a prime number\n",
            "114 is not a prime number\n",
            "115 is not a prime number\n",
            "116 is not a prime number\n",
            "117 is not a prime number\n",
            "118 is not a prime number\n",
            "119 is not a prime number\n",
            "120 is not a prime number\n",
            "121 is not a prime number\n",
            "122 is not a prime number\n",
            "123 is not a prime number\n",
            "124 is not a prime number\n",
            "125 is not a prime number\n",
            "126 is not a prime number\n",
            "127 is a prime number\n",
            "128 is not a prime number\n",
            "129 is not a prime number\n",
            "130 is not a prime number\n",
            "131 is a prime number\n",
            "132 is not a prime number\n",
            "133 is not a prime number\n",
            "134 is not a prime number\n",
            "135 is not a prime number\n",
            "136 is not a prime number\n",
            "137 is a prime number\n",
            "138 is not a prime number\n",
            "139 is a prime number\n",
            "140 is not a prime number\n",
            "141 is not a prime number\n",
            "142 is not a prime number\n",
            "143 is not a prime number\n",
            "144 is not a prime number\n",
            "145 is not a prime number\n",
            "146 is not a prime number\n",
            "147 is not a prime number\n",
            "148 is not a prime number\n",
            "149 is a prime number\n",
            "150 is not a prime number\n",
            "151 is a prime number\n",
            "152 is not a prime number\n",
            "153 is not a prime number\n",
            "154 is not a prime number\n",
            "155 is not a prime number\n",
            "156 is not a prime number\n",
            "157 is a prime number\n",
            "158 is not a prime number\n",
            "159 is not a prime number\n",
            "160 is not a prime number\n",
            "161 is not a prime number\n",
            "162 is not a prime number\n",
            "163 is a prime number\n",
            "164 is not a prime number\n",
            "165 is not a prime number\n",
            "166 is not a prime number\n",
            "167 is a prime number\n",
            "168 is not a prime number\n",
            "169 is not a prime number\n",
            "170 is not a prime number\n",
            "171 is not a prime number\n",
            "172 is not a prime number\n",
            "173 is a prime number\n",
            "174 is not a prime number\n",
            "175 is not a prime number\n",
            "176 is not a prime number\n",
            "177 is not a prime number\n",
            "178 is not a prime number\n",
            "179 is a prime number\n",
            "180 is not a prime number\n",
            "181 is a prime number\n",
            "182 is not a prime number\n",
            "183 is not a prime number\n",
            "184 is not a prime number\n",
            "185 is not a prime number\n",
            "186 is not a prime number\n",
            "187 is not a prime number\n",
            "188 is not a prime number\n",
            "189 is not a prime number\n",
            "190 is not a prime number\n",
            "191 is a prime number\n",
            "192 is not a prime number\n",
            "193 is a prime number\n",
            "194 is not a prime number\n",
            "195 is not a prime number\n",
            "196 is not a prime number\n",
            "197 is a prime number\n",
            "198 is not a prime number\n",
            "199 is a prime number\n",
            "200 is not a prime number\n"
          ]
        }
      ]
    },
    {
      "cell_type": "markdown",
      "source": [
        "5. Create an iterator class in Python that generates the Fibonacci sequence up to a specified number of terms.\n",
        "\n",
        "Answer-"
      ],
      "metadata": {
        "id": "AW44D0BgyfpM"
      }
    },
    {
      "cell_type": "code",
      "source": [
        "class FibonacciIterator:\n",
        "    \"\"\"\n",
        "    An iterator that generates the Fibonacci sequence up to a specified number of terms.\n",
        "    \"\"\"\n",
        "    def __init__(self, n):\n",
        "        \"\"\"\n",
        "        Initializes the iterator.\n",
        "\n",
        "        Args:\n",
        "            n: The number of terms in the Fibonacci sequence to generate.\n",
        "               Must be a non-negative integer.\n",
        "        \"\"\"\n",
        "        if not isinstance(n, int) or n < 0:\n",
        "            raise ValueError(\"n must be a non-negative integer\")\n",
        "        self.n = n\n",
        "        self.current = 0\n",
        "        self.next_val = 1\n",
        "        self.count = 0\n",
        "\n",
        "    def __iter__(self):\n",
        "        \"\"\"\n",
        "        Returns the iterator object itself (required for iterator protocol).\n",
        "        \"\"\"\n",
        "        return self\n",
        "\n",
        "    def __next__(self):\n",
        "        \"\"\"\n",
        "        Returns the next number in the Fibonacci sequence.\n",
        "\n",
        "        Raises:\n",
        "            StopIteration: When the sequence has reached the specified number of terms.\n",
        "        \"\"\"\n",
        "        if self.count < self.n:\n",
        "            result = self.current\n",
        "            self.current, self.next_val = self.next_val, self.current + self.next_val\n",
        "            self.count += 1\n",
        "            return result\n",
        "        else:\n",
        "            raise StopIteration\n",
        "\n",
        "# Example usage:\n",
        "fib_iter = FibonacciIterator(10)  # Create an iterator for the first 10 Fibonacci numbers\n",
        "print(\"Fibonacci sequence (first 10 terms):\")\n",
        "for num in fib_iter:\n",
        "    print(num, end=\" \")  # Output: 0 1 1 2 3 5 8 13 21 34\n",
        "\n",
        "fib_iter_2 = FibonacciIterator(0) # Test with n = 0\n",
        "print(\"\\nFibonacci sequence (first 0 terms):\")\n",
        "for num in fib_iter_2:\n",
        "    print(num, end=\" \") # Output: (nothing)\n",
        "\n",
        "fib_iter_3 = FibonacciIterator(5)\n",
        "print(\"\\nFibonacci sequence (first 5 terms):\")\n",
        "for num in fib_iter_3:\n",
        "    print(num, end=\" \")\n"
      ],
      "metadata": {
        "colab": {
          "base_uri": "https://localhost:8080/"
        },
        "id": "sRLb5axDyvzT",
        "outputId": "31422eb3-3c63-4b0e-b065-6a62047b3827"
      },
      "execution_count": 23,
      "outputs": [
        {
          "output_type": "stream",
          "name": "stdout",
          "text": [
            "Fibonacci sequence (first 10 terms):\n",
            "0 1 1 2 3 5 8 13 21 34 \n",
            "Fibonacci sequence (first 0 terms):\n",
            "\n",
            "Fibonacci sequence (first 5 terms):\n",
            "0 1 1 2 3 "
          ]
        }
      ]
    },
    {
      "cell_type": "markdown",
      "source": [
        "6. Write a generator function in Python that yields the powers of 2 up to a given exponent.\n",
        "\n",
        "Answer-"
      ],
      "metadata": {
        "id": "sCdo8DDNyxak"
      }
    },
    {
      "cell_type": "code",
      "source": [
        "def powers_of_2(n):\n",
        "    \"\"\"\n",
        "    Generates the powers of 2 up to a given exponent.\n",
        "\n",
        "    Args:\n",
        "        n: The exponent up to which the powers of 2 should be generated.\n",
        "           Must be a non-negative integer.\n",
        "\n",
        "    Yields:\n",
        "        The powers of 2 (2^0, 2^1, 2^2, ..., 2^n).  If n is not a\n",
        "        non-negative integer, the generator yields nothing.\n",
        "    \"\"\"\n",
        "    if not isinstance(n, int) or n < 0:\n",
        "        return  # Yield nothing for invalid input\n",
        "\n",
        "    for i in range(n + 1):\n",
        "        yield 2 ** i\n",
        "\n",
        "# Example usage:\n",
        "powers_of_2_iterator = powers_of_2(5)  # Get a generator for powers of 2 up to 2^5\n",
        "print(\"Powers of 2 (up to exponent 5):\")\n",
        "for power in powers_of_2_iterator:\n",
        "    print(power, end=\" \")  # Output: 1 2 4 8 16 32\n",
        "\n",
        "powers_of_2_iterator_2 = powers_of_2(0)\n",
        "print(\"\\nPowers of 2 (up to exponent 0):\")\n",
        "for power in powers_of_2_iterator_2:\n",
        "    print(power, end=\" \") #output 1\n",
        "\n",
        "powers_of_2_iterator_3 = powers_of_2(3)\n",
        "print(\"\\nPowers of 2 (up to exponent 3):\")\n",
        "for power in powers_of_2_iterator_3:\n",
        "    print(power, end=\" \")\n"
      ],
      "metadata": {
        "colab": {
          "base_uri": "https://localhost:8080/"
        },
        "id": "noVei-i_y6AE",
        "outputId": "b71d75f7-73db-496f-c0b8-19b5964c53b5"
      },
      "execution_count": 24,
      "outputs": [
        {
          "output_type": "stream",
          "name": "stdout",
          "text": [
            "Powers of 2 (up to exponent 5):\n",
            "1 2 4 8 16 32 \n",
            "Powers of 2 (up to exponent 0):\n",
            "1 \n",
            "Powers of 2 (up to exponent 3):\n",
            "1 2 4 8 "
          ]
        }
      ]
    },
    {
      "cell_type": "markdown",
      "source": [
        "7. Implement a generator function that reads a file line by line and yields each line as a string.\n",
        "\n",
        "Answer-"
      ],
      "metadata": {
        "id": "s4CC84bOy8yd"
      }
    },
    {
      "cell_type": "code",
      "source": [
        "def read_file_lines(filename):\n",
        "    \"\"\"\n",
        "    Reads a file line by line and yields each line as a string.\n",
        "\n",
        "    Args:\n",
        "        filename: The name of the file to read.\n",
        "\n",
        "    Yields:\n",
        "        Each line of the file as a string, with the newline character.\n",
        "        If the file does not exist or an error occurs, the generator\n",
        "        yields nothing and prints an error message to standard error.\n",
        "    \"\"\"\n",
        "    try:\n",
        "        with open(filename, 'r') as file:\n",
        "            for line in file:\n",
        "                yield line\n",
        "    except FileNotFoundError:\n",
        "        import sys\n",
        "        print(f\"Error: File not found: {filename}\", file=sys.stderr)\n",
        "        # No need to explicitly return, the generator will stop.\n",
        "    except Exception as e:\n",
        "        import sys\n",
        "        print(f\"An error occurred while reading the file: {e}\", file=sys.stderr)\n",
        "\n",
        "# Example usage:\n",
        "# Create a dummy file for testing\n",
        "with open(\"my_file.txt\", \"w\") as f:\n",
        "    f.write(\"This is the first line.\\n\")\n",
        "    f.write(\"This is the second line.\\n\")\n",
        "    f.write(\"This is the third line.\\n\")\n",
        "\n",
        "# Use the generator to read the file\n",
        "file_reader = read_file_lines(\"my_file.txt\")\n",
        "print(\"Reading file line by line:\")\n",
        "for line in file_reader:\n",
        "    print(line, end=\"\")  # Print each line without adding an extra newline\n",
        "\n",
        "file_reader_missing = read_file_lines(\"missing_file.txt\")\n",
        "print(\"Reading a missing file:\")\n",
        "for line in file_reader_missing: # This loop will not execute\n",
        "    print(line)\n",
        "\n"
      ],
      "metadata": {
        "colab": {
          "base_uri": "https://localhost:8080/"
        },
        "id": "JEKKBadZzJuf",
        "outputId": "b8d2445b-9c76-45f5-e386-d50160067ec6"
      },
      "execution_count": 25,
      "outputs": [
        {
          "output_type": "stream",
          "name": "stdout",
          "text": [
            "Reading file line by line:\n",
            "This is the first line.\n",
            "This is the second line.\n",
            "This is the third line.\n",
            "Reading a missing file:\n"
          ]
        },
        {
          "output_type": "stream",
          "name": "stderr",
          "text": [
            "Error: File not found: missing_file.txt\n"
          ]
        }
      ]
    },
    {
      "cell_type": "markdown",
      "source": [
        "8. Use a lambda function in Python to sort a list of tuples based on the second element of each tuple.\n",
        "\n",
        "Answer-"
      ],
      "metadata": {
        "id": "ZSHln3wBzMBn"
      }
    },
    {
      "cell_type": "code",
      "source": [
        "def sort_tuples_by_second_element(list_of_tuples):\n",
        "    \"\"\"\n",
        "    Sorts a list of tuples based on the second element of each tuple using a lambda function.\n",
        "\n",
        "    Args:\n",
        "        list_of_tuples: A list of tuples.\n",
        "\n",
        "    Returns:\n",
        "        A new list containing the tuples sorted by their second elements.\n",
        "        Returns an empty list if the input is not a list or is empty.\n",
        "        If the input list contains elements that are not tuples,\n",
        "        a TypeError is raised.\n",
        "    \"\"\"\n",
        "    if not isinstance(list_of_tuples, list):\n",
        "        return []  # Return empty list for non-list input\n",
        "\n",
        "    if not list_of_tuples:\n",
        "        return [] # Return empty list for empty input\n",
        "\n",
        "    for element in list_of_tuples:\n",
        "        if not isinstance(element, tuple):\n",
        "            raise TypeError(\"Input list must contain only tuples\")\n",
        "\n",
        "    return sorted(list_of_tuples, key=lambda x: x[1])\n",
        "\n",
        "# Example usage:\n",
        "tuple_list1 = [(1, 5), (3, 2), (2, 8), (4, 1), (0, 9)]\n",
        "sorted_list1 = sort_tuples_by_second_element(tuple_list1)\n",
        "print(f\"Sorted list: {sorted_list1}\")  # Output: [(4, 1), (3, 2), (1, 5), (2, 8), (0, 9)]\n",
        "\n",
        "tuple_list2 = [(1, 'b'), (3, 'a'), (2, 'c')]\n",
        "sorted_list2 = sort_tuples_by_second_element(tuple_list2)\n",
        "print(f\"Sorted list: {sorted_list2}\")  # Output: [(3, 'a'), (1, 'b'), (2, 'c')]\n",
        "\n",
        "tuple_list3 = []\n",
        "sorted_list3 = sort_tuples_by_second_element(tuple_list3)\n",
        "print(f\"Sorted list: {sorted_list3}\") # Output: []\n",
        "\n",
        "tuple_list4 = [(1,2), 3, (4,5)] #list containing non-tuple\n",
        "try:\n",
        "    sorted_list4 = sort_tuples_by_second_element(tuple_list4)\n",
        "    print(f\"Sorted list: {sorted_list4}\")\n",
        "except TypeError as e:\n",
        "    print(f\"Error: {e}\") # Output: Error: Input list must contain only tuples\n"
      ],
      "metadata": {
        "colab": {
          "base_uri": "https://localhost:8080/"
        },
        "id": "saPHiZUNzQj5",
        "outputId": "840b5390-dec1-460f-87a2-029d80c8321d"
      },
      "execution_count": 26,
      "outputs": [
        {
          "output_type": "stream",
          "name": "stdout",
          "text": [
            "Sorted list: [(4, 1), (3, 2), (1, 5), (2, 8), (0, 9)]\n",
            "Sorted list: [(3, 'a'), (1, 'b'), (2, 'c')]\n",
            "Sorted list: []\n",
            "Error: Input list must contain only tuples\n"
          ]
        }
      ]
    },
    {
      "cell_type": "markdown",
      "source": [
        "9. Write a Python program that uses `map()` to convert a list of temperatures from Celsius to Fahrenheit.\n",
        "\n",
        "Answer-"
      ],
      "metadata": {
        "id": "NstIrshpzZb5"
      }
    },
    {
      "cell_type": "code",
      "source": [
        "def celsius_to_fahrenheit(celsius):\n",
        "    \"\"\"\n",
        "    Converts a temperature from Celsius to Fahrenheit.\n",
        "\n",
        "    Args:\n",
        "        celsius: A temperature in Celsius (numeric value).\n",
        "\n",
        "    Returns:\n",
        "        The equivalent temperature in Fahrenheit.\n",
        "    \"\"\"\n",
        "    return (celsius * 9/5) + 32\n",
        "\n",
        "def convert_temperatures(celsius_temperatures):\n",
        "    \"\"\"\n",
        "    Converts a list of temperatures from Celsius to Fahrenheit using map().\n",
        "\n",
        "    Args:\n",
        "        celsius_temperatures: A list of temperatures in Celsius.\n",
        "\n",
        "    Returns:\n",
        "        A list of temperatures in Fahrenheit. Returns an empty list if\n",
        "        the input is not a list.  Returns a list where non-numeric\n",
        "        input values are converted to None.\n",
        "    \"\"\"\n",
        "    if not isinstance(celsius_temperatures, list):\n",
        "        return []\n",
        "\n",
        "    def safe_conversion(c):\n",
        "        if isinstance(c, (int, float)):\n",
        "            return celsius_to_fahrenheit(c)\n",
        "        else:\n",
        "            return None  # Handle non-numeric values\n",
        "\n",
        "    fahrenheit_temperatures = list(map(safe_conversion, celsius_temperatures))\n",
        "    return fahrenheit_temperatures\n",
        "\n",
        "# Example usage:\n",
        "celsius_temperatures1 = [0, 10, 20, 30, 40, 100]\n",
        "fahrenheit_temperatures1 = convert_temperatures(celsius_temperatures1)\n",
        "print(f\"Celsius temperatures: {celsius_temperatures1}\")\n",
        "print(f\"Fahrenheit temperatures: {fahrenheit_temperatures1}\")\n",
        "# Output:\n",
        "# Celsius temperatures: [0, 10, 20, 30, 40, 100]\n",
        "# Fahrenheit temperatures: [32.0, 50.0, 68.0, 86.0, 104.0, 212.0]\n",
        "\n",
        "celsius_temperatures2 = [-273.15, -40, 0, 37, 100]\n",
        "fahrenheit_temperatures2 = convert_temperatures(celsius_temperatures2)\n",
        "print(f\"Celsius temperatures: {celsius_temperatures2}\")\n",
        "print(f\"Fahrenheit temperatures: {fahrenheit_temperatures2}\")\n",
        "# Output:\n",
        "# Celsius temperatures: [-273.15, -40, 0, 37, 100]\n",
        "# Fahrenheit temperatures: [-459.67, -40.0, 32.0, 98.6, 212.0]\n",
        "\n",
        "celsius_temperatures3 = [0, 10, 20, 30, \"abc\", 100]\n",
        "fahrenheit_temperatures3 = convert_temperatures(celsius_temperatures3)\n",
        "print(f\"Celsius temperatures: {celsius_temperatures3}\")\n",
        "print(f\"Fahrenheit temperatures: {fahrenheit_temperatures3}\")\n",
        "# Output:\n",
        "# Celsius temperatures: [0, 10, 20, 30, \"abc\", 100]\n",
        "# Fahrenheit temperatures: [32.0, 50.0, 68.0, 86.0, None, 212.0]\n"
      ],
      "metadata": {
        "colab": {
          "base_uri": "https://localhost:8080/"
        },
        "id": "Z2kIKVmpziAO",
        "outputId": "517df742-5b06-47b3-db29-9d86fc64fd70"
      },
      "execution_count": 27,
      "outputs": [
        {
          "output_type": "stream",
          "name": "stdout",
          "text": [
            "Celsius temperatures: [0, 10, 20, 30, 40, 100]\n",
            "Fahrenheit temperatures: [32.0, 50.0, 68.0, 86.0, 104.0, 212.0]\n",
            "Celsius temperatures: [-273.15, -40, 0, 37, 100]\n",
            "Fahrenheit temperatures: [-459.66999999999996, -40.0, 32.0, 98.6, 212.0]\n",
            "Celsius temperatures: [0, 10, 20, 30, 'abc', 100]\n",
            "Fahrenheit temperatures: [32.0, 50.0, 68.0, 86.0, None, 212.0]\n"
          ]
        }
      ]
    },
    {
      "cell_type": "markdown",
      "source": [
        "10. Create a Python program that uses `filter()` to remove all the vowels from a given string.\n",
        "\n",
        "Answer-"
      ],
      "metadata": {
        "id": "m_eeyGcqzkTL"
      }
    },
    {
      "cell_type": "code",
      "source": [
        "def remove_vowels(input_string):\n",
        "    \"\"\"\n",
        "    Removes all vowels from a given string using the filter() function.\n",
        "\n",
        "    Args:\n",
        "        input_string: The string from which to remove vowels.\n",
        "\n",
        "    Returns:\n",
        "        A new string with all vowels removed.  Returns an empty string\n",
        "        if the input is not a string.\n",
        "    \"\"\"\n",
        "    if not isinstance(input_string, str):\n",
        "        return \"\"  # Handle non-string input\n",
        "\n",
        "    vowels = \"AEIOUaeiou\"  # String containing all vowel characters\n",
        "    # Use filter() to keep only the non-vowel characters\n",
        "    filtered_chars = filter(lambda char: char not in vowels, input_string)\n",
        "    # Join the filtered characters back into a string\n",
        "    return \"\".join(filtered_chars)\n",
        "\n",
        "# Example usage:\n",
        "string1 = \"Hello, World!\"\n",
        "result1 = remove_vowels(string1)\n",
        "print(f\"Original string: '{string1}'\")\n",
        "print(f\"String without vowels: '{result1}'\")  # Output: 'Hll, Wrld!'\n",
        "\n",
        "string2 = \"Python programming is fun\"\n",
        "result2 = remove_vowels(string2)\n",
        "print(f\"Original string: '{string2}'\")\n",
        "print(f\"String without vowels: '{result2}'\")  # Output: 'Pythn prgrmmng s fn'\n",
        "\n",
        "string3 = \"AEIOUaeiou\"\n",
        "result3 = remove_vowels(string3)\n",
        "print(f\"Original string: '{string3}'\")\n",
        "print(f\"String without vowels: '{result3}'\")  # Output: ''\n",
        "\n",
        "string4 = \"\"\n",
        "result4 = remove_vowels(string4)\n",
        "print(f\"Original string: '{string4}'\")\n",
        "print(f\"String without vowels: '{result4}'\")  # Output: ''\n",
        "\n",
        "string5 = 123 #test with non string\n",
        "result5 = remove_vowels(string5)\n",
        "print(f\"Original string: '{string5}'\")\n",
        "print(f\"String without vowels: '{result5}'\") #output ''\n"
      ],
      "metadata": {
        "colab": {
          "base_uri": "https://localhost:8080/"
        },
        "id": "akESMG3lz0_M",
        "outputId": "e2b14f4f-ae86-4748-db97-5aca2d9fb86c"
      },
      "execution_count": 28,
      "outputs": [
        {
          "output_type": "stream",
          "name": "stdout",
          "text": [
            "Original string: 'Hello, World!'\n",
            "String without vowels: 'Hll, Wrld!'\n",
            "Original string: 'Python programming is fun'\n",
            "String without vowels: 'Pythn prgrmmng s fn'\n",
            "Original string: 'AEIOUaeiou'\n",
            "String without vowels: ''\n",
            "Original string: ''\n",
            "String without vowels: ''\n",
            "Original string: '123'\n",
            "String without vowels: ''\n"
          ]
        }
      ]
    },
    {
      "cell_type": "markdown",
      "source": [
        "11) Imagine an accounting routine used in a book shop. It works on a list with sublists, which look like this:\n",
        "\n",
        "\n",
        "\n",
        "\n",
        "\n",
        "\n",
        "\n",
        "Write a Python program, which returns a list with 2-tuples. Each tuple consists of the order number and the\n",
        "product of the price per item and the quantity. The product should be increased by 10,- € if the value of the\n",
        "order is smaller than 100,00 €.\n",
        "\n",
        "Write a Python program using lambda and map.\n",
        "\n",
        "Answer-"
      ],
      "metadata": {
        "id": "5QUZc9LR0U8Z"
      }
    },
    {
      "cell_type": "code",
      "source": [
        "def process_orders(orders):\n",
        "    \"\"\"\n",
        "    Processes a list of book orders, calculating the total price for each order\n",
        "    and applying a surcharge if the order value is less than 100€.\n",
        "\n",
        "    Args:\n",
        "        orders: A list of order sublists, where each sublist contains:\n",
        "                - order number (integer)\n",
        "                - item (string, not used in calculation)\n",
        "                - quantity (integer)\n",
        "                - price per item (float)\n",
        "\n",
        "    Returns:\n",
        "        A list of 2-tuples, where each tuple contains:\n",
        "                - order number (integer)\n",
        "                - total order price (float, with potential surcharge)\n",
        "    \"\"\"\n",
        "    def calculate_order_total(order):\n",
        "        \"\"\"\n",
        "        Calculates the total price for a single order.\n",
        "\n",
        "        Args:\n",
        "            order: A sublist representing a single order.\n",
        "\n",
        "        Returns:\n",
        "            The total price of the order (quantity * price per item),\n",
        "            plus a 10€ surcharge if the total is less than 100€.\n",
        "        \"\"\"\n",
        "        order_number, _, quantity, price_per_item = order\n",
        "        total_price = quantity * price_per_item\n",
        "        if total_price < 100:\n",
        "            total_price += 10\n",
        "        return order_number, total_price\n",
        "\n",
        "    # Use map() and a lambda function to apply the calculation to each order\n",
        "    return list(map(calculate_order_total, orders))\n",
        "\n",
        "# Example usage:\n",
        "orders_list = [\n",
        "    [34587, 'Learning Python, 2nd Edition', 4, 40.95],\n",
        "    [34588, 'Effective Java, 2nd Edition', 2, 30.99],\n",
        "    [34589, 'Programming Pearls', 1, 55.00],\n",
        "    [34590, 'Code Complete, 2nd Edition', 8, 42.90],\n",
        "]\n",
        "\n",
        "processed_orders = process_orders(orders_list)\n",
        "print(processed_orders)\n",
        "# Expected output:\n",
        "# [(34587, 173.8), (34588, 71.98), (34589, 65.0), (34590, 353.2)]\n",
        "\n",
        "orders_list_2 = [\n",
        "        [12345, \"Book A\", 1, 90.00],\n",
        "        [67890, \"Book B\", 2, 50.00],\n",
        "        [24680, \"Book C\", 3, 20.00]\n",
        "]\n",
        "processed_orders_2 = process_orders(orders_list_2)\n",
        "print(processed_orders_2)\n",
        "#Expected output:\n",
        "# [(12345, 90.0), (67890, 110.0), (24680, 70.0)]\n"
      ],
      "metadata": {
        "colab": {
          "base_uri": "https://localhost:8080/"
        },
        "id": "pEYBSZmU0Wo4",
        "outputId": "d47100a4-06e8-4749-d8bb-9f797da9bbbf"
      },
      "execution_count": 29,
      "outputs": [
        {
          "output_type": "stream",
          "name": "stdout",
          "text": [
            "[(34587, 163.8), (34588, 71.97999999999999), (34589, 65.0), (34590, 343.2)]\n",
            "[(12345, 100.0), (67890, 100.0), (24680, 70.0)]\n"
          ]
        }
      ]
    }
  ]
}